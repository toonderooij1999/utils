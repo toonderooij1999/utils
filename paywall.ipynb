{
 "cells": [
  {
   "cell_type": "code",
   "execution_count": 53,
   "metadata": {},
   "outputs": [],
   "source": [
    "from bs4 import BeautifulSoup\n",
    "import requests"
   ]
  },
  {
   "cell_type": "code",
   "execution_count": 223,
   "metadata": {},
   "outputs": [],
   "source": [
    "def remove_paywall(URL):\n",
    "    ''' Removes the paywall and prints text of the following newspapers:\n",
    "    NRC, Volkskrant & NY Times.\n",
    "    '''\n",
    "    paper = URL.split('www.')[1].split('.')[0]\n",
    "    r = requests.get(URL)\n",
    "    soup = BeautifulSoup(r.text)\n",
    "    print('\\033[1m'+soup.title.text+'\\033[0m\\n')\n",
    "    # NRC\n",
    "    if paper == 'nrc':\n",
    "        article = soup.find('div',{'class':'content article__content'})\n",
    "        if not article:\n",
    "            print(\"This doesn't seem to be a URL of a specific article.\")\n",
    "            return\n",
    "        for item in article:\n",
    "            if item.name:\n",
    "                if item.name == 'p':\n",
    "                    if item.span:\n",
    "                        print('\\n\\033[1m'+item.text+'\\033[0m')\n",
    "                    else:\n",
    "                        print(item.text)\n",
    "                elif item.name[0] == 'h':\n",
    "                    print('\\n\\033[1m'+item.text+'\\033[0m')\n",
    "    # Volkskrant\n",
    "    elif paper == 'volkskrant':\n",
    "        article = soup.find('section',{'class':'artstyle__main--container'})\n",
    "        if not article:\n",
    "            print(\"This doesn't seem to be a URL of a specific article.\")\n",
    "            return\n",
    "        for item in article:\n",
    "            if item.name:\n",
    "                if item.name == 'p':\n",
    "                    print(item.text)\n",
    "                elif item.name[0] == 'h':\n",
    "                    print('\\n\\033[1m'+item.text+'\\033[0m')\n",
    "    # NY Times\n",
    "    elif paper == 'nytimes':\n",
    "        article = soup.find('section',{'name':'articleBody'})\n",
    "        if not article:\n",
    "            print(\"This doesn't seem to be a URL of a specific article.\")\n",
    "            return\n",
    "        for div in article:\n",
    "            for p in div.find_all('p'):\n",
    "                print(p.text)\n",
    "    # Unknown\n",
    "    else:\n",
    "        print(\"We're not able to open articles of the \"+paper+\" yet.\")"
   ]
  },
  {
   "cell_type": "code",
   "execution_count": 229,
   "metadata": {},
   "outputs": [
    {
     "name": "stdout",
     "output_type": "stream",
     "text": [
      "\u001b[1mLaatste nieuws - NRC\u001b[0m\n",
      "\n",
      "This doesn't seem to be a URL of a specific article.\n"
     ]
    }
   ],
   "source": [
    "article_URL = 'https://www.nrc.nl/nieuws'\n",
    "\n",
    "remove_paywall(article_URL)"
   ]
  }
 ],
 "metadata": {
  "kernelspec": {
   "display_name": "Python 3",
   "language": "python",
   "name": "python3"
  },
  "language_info": {
   "codemirror_mode": {
    "name": "ipython",
    "version": 3
   },
   "file_extension": ".py",
   "mimetype": "text/x-python",
   "name": "python",
   "nbconvert_exporter": "python",
   "pygments_lexer": "ipython3",
   "version": "3.8.3"
  }
 },
 "nbformat": 4,
 "nbformat_minor": 4
}
